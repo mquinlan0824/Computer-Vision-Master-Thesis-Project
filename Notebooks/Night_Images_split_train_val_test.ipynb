{
 "cells": [
  {
   "cell_type": "markdown",
   "id": "1ffc58bc-28fa-4ea5-b41b-7e8bc0e53e26",
   "metadata": {},
   "source": [
    "# **This script does the following for Night images:**\n",
    "\n",
    "1. takes as input the source directory of all images stored in sample - subset of entire population of images\n",
    "2. distributes images into train/validate/test folders with a 0.8/0.1/0.1 split\n",
    "3. separates images into classes and stores in above folders (ex: train/fog and train/nofog, etc.)"
   ]
  },
  {
   "cell_type": "code",
   "execution_count": 1,
   "id": "af2f482f",
   "metadata": {},
   "outputs": [],
   "source": [
    "# import necessary libraries\n",
    "import os\n",
    "import numpy as np\n",
    "import pandas as pd\n",
    "import pickle\n",
    "import shutil"
   ]
  },
  {
   "cell_type": "code",
   "execution_count": 2,
   "id": "e6c2ed47",
   "metadata": {},
   "outputs": [
    {
     "data": {
      "text/html": [
       "<div>\n",
       "<style scoped>\n",
       "    .dataframe tbody tr th:only-of-type {\n",
       "        vertical-align: middle;\n",
       "    }\n",
       "\n",
       "    .dataframe tbody tr th {\n",
       "        vertical-align: top;\n",
       "    }\n",
       "\n",
       "    .dataframe thead th {\n",
       "        text-align: right;\n",
       "    }\n",
       "</style>\n",
       "<table border=\"1\" class=\"dataframe\">\n",
       "  <thead>\n",
       "    <tr style=\"text-align: right;\">\n",
       "      <th></th>\n",
       "      <th>filename</th>\n",
       "      <th>label</th>\n",
       "      <th>day_phase</th>\n",
       "      <th>phase</th>\n",
       "      <th>filepath</th>\n",
       "    </tr>\n",
       "  </thead>\n",
       "  <tbody>\n",
       "    <tr>\n",
       "      <th>52183</th>\n",
       "      <td>A9-HM470-ID12831_20200101_0331.jpg</td>\n",
       "      <td>Fog</td>\n",
       "      <td>0</td>\n",
       "      <td>Night</td>\n",
       "      <td>/home/ubuntu/michael/nl_images/images_data/A9-...</td>\n",
       "    </tr>\n",
       "    <tr>\n",
       "      <th>51511</th>\n",
       "      <td>A9-HM467-ID12834_20191231_2051.jpg</td>\n",
       "      <td>Fog</td>\n",
       "      <td>0</td>\n",
       "      <td>Night</td>\n",
       "      <td>/home/ubuntu/michael/nl_images/images_data/A9-...</td>\n",
       "    </tr>\n",
       "    <tr>\n",
       "      <th>42537</th>\n",
       "      <td>A9-HM467-ID12834_20200101_0101.jpg</td>\n",
       "      <td>Fog</td>\n",
       "      <td>0</td>\n",
       "      <td>Night</td>\n",
       "      <td>/home/ubuntu/michael/nl_images/images_data/A9-...</td>\n",
       "    </tr>\n",
       "    <tr>\n",
       "      <th>37402</th>\n",
       "      <td>A50-HM1867-ID11639_20191231_0651.jpg</td>\n",
       "      <td>Fog</td>\n",
       "      <td>20</td>\n",
       "      <td>Night</td>\n",
       "      <td>/home/ubuntu/michael/nl_images/images_data/A50...</td>\n",
       "    </tr>\n",
       "    <tr>\n",
       "      <th>1220</th>\n",
       "      <td>A50-HM1868-ID11520_20190322_0201.jpg</td>\n",
       "      <td>Fog</td>\n",
       "      <td>0</td>\n",
       "      <td>Night</td>\n",
       "      <td>/home/ubuntu/michael/nl_images/images_data/A50...</td>\n",
       "    </tr>\n",
       "    <tr>\n",
       "      <th>...</th>\n",
       "      <td>...</td>\n",
       "      <td>...</td>\n",
       "      <td>...</td>\n",
       "      <td>...</td>\n",
       "      <td>...</td>\n",
       "    </tr>\n",
       "    <tr>\n",
       "      <th>8855</th>\n",
       "      <td>A27-HM675-ID10959_20170913_0421.jpg</td>\n",
       "      <td>No Fog</td>\n",
       "      <td>20</td>\n",
       "      <td>Night</td>\n",
       "      <td>/home/ubuntu/michael/nl_images/images_data/A27...</td>\n",
       "    </tr>\n",
       "    <tr>\n",
       "      <th>3946</th>\n",
       "      <td>A9-HM470-ID12806_20190504_0011.jpg</td>\n",
       "      <td>No Fog</td>\n",
       "      <td>0</td>\n",
       "      <td>Night</td>\n",
       "      <td>/home/ubuntu/michael/nl_images/images_data/A9-...</td>\n",
       "    </tr>\n",
       "    <tr>\n",
       "      <th>30941</th>\n",
       "      <td>A50-HM1888-ID11528_20181009_1901.jpg</td>\n",
       "      <td>No Fog</td>\n",
       "      <td>0</td>\n",
       "      <td>Night</td>\n",
       "      <td>/home/ubuntu/michael/nl_images/images_data/A50...</td>\n",
       "    </tr>\n",
       "    <tr>\n",
       "      <th>8528</th>\n",
       "      <td>A4-HM52-ID11043_20170906_2250.jpg</td>\n",
       "      <td>No Fog</td>\n",
       "      <td>0</td>\n",
       "      <td>Night</td>\n",
       "      <td>/home/ubuntu/michael/nl_images/images_data/A4-...</td>\n",
       "    </tr>\n",
       "    <tr>\n",
       "      <th>3548</th>\n",
       "      <td>A9-HM492-ID12819_20190412_0040.jpg</td>\n",
       "      <td>No Fog</td>\n",
       "      <td>0</td>\n",
       "      <td>Night</td>\n",
       "      <td>/home/ubuntu/michael/nl_images/images_data/A9-...</td>\n",
       "    </tr>\n",
       "  </tbody>\n",
       "</table>\n",
       "<p>2908 rows × 5 columns</p>\n",
       "</div>"
      ],
      "text/plain": [
       "                                   filename   label  day_phase  phase  \\\n",
       "52183    A9-HM470-ID12831_20200101_0331.jpg     Fog          0  Night   \n",
       "51511    A9-HM467-ID12834_20191231_2051.jpg     Fog          0  Night   \n",
       "42537    A9-HM467-ID12834_20200101_0101.jpg     Fog          0  Night   \n",
       "37402  A50-HM1867-ID11639_20191231_0651.jpg     Fog         20  Night   \n",
       "1220   A50-HM1868-ID11520_20190322_0201.jpg     Fog          0  Night   \n",
       "...                                     ...     ...        ...    ...   \n",
       "8855    A27-HM675-ID10959_20170913_0421.jpg  No Fog         20  Night   \n",
       "3946     A9-HM470-ID12806_20190504_0011.jpg  No Fog          0  Night   \n",
       "30941  A50-HM1888-ID11528_20181009_1901.jpg  No Fog          0  Night   \n",
       "8528      A4-HM52-ID11043_20170906_2250.jpg  No Fog          0  Night   \n",
       "3548     A9-HM492-ID12819_20190412_0040.jpg  No Fog          0  Night   \n",
       "\n",
       "                                                filepath  \n",
       "52183  /home/ubuntu/michael/nl_images/images_data/A9-...  \n",
       "51511  /home/ubuntu/michael/nl_images/images_data/A9-...  \n",
       "42537  /home/ubuntu/michael/nl_images/images_data/A9-...  \n",
       "37402  /home/ubuntu/michael/nl_images/images_data/A50...  \n",
       "1220   /home/ubuntu/michael/nl_images/images_data/A50...  \n",
       "...                                                  ...  \n",
       "8855   /home/ubuntu/michael/nl_images/images_data/A27...  \n",
       "3946   /home/ubuntu/michael/nl_images/images_data/A9-...  \n",
       "30941  /home/ubuntu/michael/nl_images/images_data/A50...  \n",
       "8528   /home/ubuntu/michael/nl_images/images_data/A4-...  \n",
       "3548   /home/ubuntu/michael/nl_images/images_data/A9-...  \n",
       "\n",
       "[2908 rows x 5 columns]"
      ]
     },
     "execution_count": 2,
     "metadata": {},
     "output_type": "execute_result"
    }
   ],
   "source": [
    "# read pickle file that contains sample_df of image filenames, image labels and image filepatsh\n",
    "file_path = '/home/ubuntu/michael/my_pickles/'\n",
    "infile = 'night_df.pkl' \n",
    "infile = open(file_path + infile, 'rb')\n",
    "night_df = pickle.load(infile, encoding = 'utf-8')\n",
    "night_df"
   ]
  },
  {
   "cell_type": "code",
   "execution_count": 3,
   "id": "ffed7b3f-35c2-4786-a881-4547afe0005a",
   "metadata": {},
   "outputs": [
    {
     "data": {
      "text/html": [
       "<div>\n",
       "<style scoped>\n",
       "    .dataframe tbody tr th:only-of-type {\n",
       "        vertical-align: middle;\n",
       "    }\n",
       "\n",
       "    .dataframe tbody tr th {\n",
       "        vertical-align: top;\n",
       "    }\n",
       "\n",
       "    .dataframe thead th {\n",
       "        text-align: right;\n",
       "    }\n",
       "</style>\n",
       "<table border=\"1\" class=\"dataframe\">\n",
       "  <thead>\n",
       "    <tr style=\"text-align: right;\">\n",
       "      <th></th>\n",
       "      <th>filename</th>\n",
       "      <th>label</th>\n",
       "      <th>day_phase</th>\n",
       "      <th>phase</th>\n",
       "      <th>filepath</th>\n",
       "      <th>y_true</th>\n",
       "    </tr>\n",
       "  </thead>\n",
       "  <tbody>\n",
       "    <tr>\n",
       "      <th>52183</th>\n",
       "      <td>A9-HM470-ID12831_20200101_0331.jpg</td>\n",
       "      <td>Fog</td>\n",
       "      <td>0</td>\n",
       "      <td>Night</td>\n",
       "      <td>/home/ubuntu/michael/nl_images/images_data/A9-...</td>\n",
       "      <td>1</td>\n",
       "    </tr>\n",
       "    <tr>\n",
       "      <th>51511</th>\n",
       "      <td>A9-HM467-ID12834_20191231_2051.jpg</td>\n",
       "      <td>Fog</td>\n",
       "      <td>0</td>\n",
       "      <td>Night</td>\n",
       "      <td>/home/ubuntu/michael/nl_images/images_data/A9-...</td>\n",
       "      <td>1</td>\n",
       "    </tr>\n",
       "    <tr>\n",
       "      <th>42537</th>\n",
       "      <td>A9-HM467-ID12834_20200101_0101.jpg</td>\n",
       "      <td>Fog</td>\n",
       "      <td>0</td>\n",
       "      <td>Night</td>\n",
       "      <td>/home/ubuntu/michael/nl_images/images_data/A9-...</td>\n",
       "      <td>1</td>\n",
       "    </tr>\n",
       "    <tr>\n",
       "      <th>37402</th>\n",
       "      <td>A50-HM1867-ID11639_20191231_0651.jpg</td>\n",
       "      <td>Fog</td>\n",
       "      <td>20</td>\n",
       "      <td>Night</td>\n",
       "      <td>/home/ubuntu/michael/nl_images/images_data/A50...</td>\n",
       "      <td>1</td>\n",
       "    </tr>\n",
       "    <tr>\n",
       "      <th>1220</th>\n",
       "      <td>A50-HM1868-ID11520_20190322_0201.jpg</td>\n",
       "      <td>Fog</td>\n",
       "      <td>0</td>\n",
       "      <td>Night</td>\n",
       "      <td>/home/ubuntu/michael/nl_images/images_data/A50...</td>\n",
       "      <td>1</td>\n",
       "    </tr>\n",
       "    <tr>\n",
       "      <th>...</th>\n",
       "      <td>...</td>\n",
       "      <td>...</td>\n",
       "      <td>...</td>\n",
       "      <td>...</td>\n",
       "      <td>...</td>\n",
       "      <td>...</td>\n",
       "    </tr>\n",
       "    <tr>\n",
       "      <th>8855</th>\n",
       "      <td>A27-HM675-ID10959_20170913_0421.jpg</td>\n",
       "      <td>No Fog</td>\n",
       "      <td>20</td>\n",
       "      <td>Night</td>\n",
       "      <td>/home/ubuntu/michael/nl_images/images_data/A27...</td>\n",
       "      <td>0</td>\n",
       "    </tr>\n",
       "    <tr>\n",
       "      <th>3946</th>\n",
       "      <td>A9-HM470-ID12806_20190504_0011.jpg</td>\n",
       "      <td>No Fog</td>\n",
       "      <td>0</td>\n",
       "      <td>Night</td>\n",
       "      <td>/home/ubuntu/michael/nl_images/images_data/A9-...</td>\n",
       "      <td>0</td>\n",
       "    </tr>\n",
       "    <tr>\n",
       "      <th>30941</th>\n",
       "      <td>A50-HM1888-ID11528_20181009_1901.jpg</td>\n",
       "      <td>No Fog</td>\n",
       "      <td>0</td>\n",
       "      <td>Night</td>\n",
       "      <td>/home/ubuntu/michael/nl_images/images_data/A50...</td>\n",
       "      <td>0</td>\n",
       "    </tr>\n",
       "    <tr>\n",
       "      <th>8528</th>\n",
       "      <td>A4-HM52-ID11043_20170906_2250.jpg</td>\n",
       "      <td>No Fog</td>\n",
       "      <td>0</td>\n",
       "      <td>Night</td>\n",
       "      <td>/home/ubuntu/michael/nl_images/images_data/A4-...</td>\n",
       "      <td>0</td>\n",
       "    </tr>\n",
       "    <tr>\n",
       "      <th>3548</th>\n",
       "      <td>A9-HM492-ID12819_20190412_0040.jpg</td>\n",
       "      <td>No Fog</td>\n",
       "      <td>0</td>\n",
       "      <td>Night</td>\n",
       "      <td>/home/ubuntu/michael/nl_images/images_data/A9-...</td>\n",
       "      <td>0</td>\n",
       "    </tr>\n",
       "  </tbody>\n",
       "</table>\n",
       "<p>2908 rows × 6 columns</p>\n",
       "</div>"
      ],
      "text/plain": [
       "                                   filename   label  day_phase  phase  \\\n",
       "52183    A9-HM470-ID12831_20200101_0331.jpg     Fog          0  Night   \n",
       "51511    A9-HM467-ID12834_20191231_2051.jpg     Fog          0  Night   \n",
       "42537    A9-HM467-ID12834_20200101_0101.jpg     Fog          0  Night   \n",
       "37402  A50-HM1867-ID11639_20191231_0651.jpg     Fog         20  Night   \n",
       "1220   A50-HM1868-ID11520_20190322_0201.jpg     Fog          0  Night   \n",
       "...                                     ...     ...        ...    ...   \n",
       "8855    A27-HM675-ID10959_20170913_0421.jpg  No Fog         20  Night   \n",
       "3946     A9-HM470-ID12806_20190504_0011.jpg  No Fog          0  Night   \n",
       "30941  A50-HM1888-ID11528_20181009_1901.jpg  No Fog          0  Night   \n",
       "8528      A4-HM52-ID11043_20170906_2250.jpg  No Fog          0  Night   \n",
       "3548     A9-HM492-ID12819_20190412_0040.jpg  No Fog          0  Night   \n",
       "\n",
       "                                                filepath  y_true  \n",
       "52183  /home/ubuntu/michael/nl_images/images_data/A9-...       1  \n",
       "51511  /home/ubuntu/michael/nl_images/images_data/A9-...       1  \n",
       "42537  /home/ubuntu/michael/nl_images/images_data/A9-...       1  \n",
       "37402  /home/ubuntu/michael/nl_images/images_data/A50...       1  \n",
       "1220   /home/ubuntu/michael/nl_images/images_data/A50...       1  \n",
       "...                                                  ...     ...  \n",
       "8855   /home/ubuntu/michael/nl_images/images_data/A27...       0  \n",
       "3946   /home/ubuntu/michael/nl_images/images_data/A9-...       0  \n",
       "30941  /home/ubuntu/michael/nl_images/images_data/A50...       0  \n",
       "8528   /home/ubuntu/michael/nl_images/images_data/A4-...       0  \n",
       "3548   /home/ubuntu/michael/nl_images/images_data/A9-...       0  \n",
       "\n",
       "[2908 rows x 6 columns]"
      ]
     },
     "execution_count": 3,
     "metadata": {},
     "output_type": "execute_result"
    }
   ],
   "source": [
    "# change labels from strings to integers and map labels correctly\n",
    "mapping = {'No Fog':0, 'Fog':1}\n",
    "y_true = night_df.label.map(mapping)\n",
    "night_df['y_true'] = y_true\n",
    "night_df"
   ]
  },
  {
   "cell_type": "code",
   "execution_count": 4,
   "id": "041ce1be-053a-454e-868c-67669184157f",
   "metadata": {},
   "outputs": [
    {
     "name": "stdout",
     "output_type": "stream",
     "text": [
      "Total number of labels: 2908\n"
     ]
    }
   ],
   "source": [
    "# outcome variable (label)\n",
    "sample_label_list = night_df.label\n",
    "print(f'Total number of labels: {len(sample_label_list)}') #2908"
   ]
  },
  {
   "cell_type": "code",
   "execution_count": 5,
   "id": "4143ad4a-7784-4371-9edf-0ce6fc29c821",
   "metadata": {},
   "outputs": [
    {
     "name": "stdout",
     "output_type": "stream",
     "text": [
      "Total number of files: 2908\n"
     ]
    }
   ],
   "source": [
    "# predictor variable (image)\n",
    "sample_filename_list = night_df.filename\n",
    "print(f'Total number of files: {len(sample_filename_list)}') #2908"
   ]
  },
  {
   "cell_type": "markdown",
   "id": "ba96de44",
   "metadata": {},
   "source": [
    "## **Randomly model shuffle dataset**"
   ]
  },
  {
   "cell_type": "code",
   "execution_count": 6,
   "id": "1f5a1662",
   "metadata": {},
   "outputs": [],
   "source": [
    "night_df = night_df.sample(axis = 0, frac = 1, random_state = 22).reset_index(drop=True)"
   ]
  },
  {
   "cell_type": "code",
   "execution_count": 7,
   "id": "fb364f8f-1cf1-4419-b08b-b362dd6d7b72",
   "metadata": {},
   "outputs": [
    {
     "data": {
      "text/html": [
       "<div>\n",
       "<style scoped>\n",
       "    .dataframe tbody tr th:only-of-type {\n",
       "        vertical-align: middle;\n",
       "    }\n",
       "\n",
       "    .dataframe tbody tr th {\n",
       "        vertical-align: top;\n",
       "    }\n",
       "\n",
       "    .dataframe thead th {\n",
       "        text-align: right;\n",
       "    }\n",
       "</style>\n",
       "<table border=\"1\" class=\"dataframe\">\n",
       "  <thead>\n",
       "    <tr style=\"text-align: right;\">\n",
       "      <th></th>\n",
       "      <th>filename</th>\n",
       "      <th>label</th>\n",
       "      <th>day_phase</th>\n",
       "      <th>phase</th>\n",
       "      <th>filepath</th>\n",
       "      <th>y_true</th>\n",
       "    </tr>\n",
       "  </thead>\n",
       "  <tbody>\n",
       "    <tr>\n",
       "      <th>0</th>\n",
       "      <td>A50-HM1841-ID11511_20200101_2041.jpg</td>\n",
       "      <td>Fog</td>\n",
       "      <td>0</td>\n",
       "      <td>Night</td>\n",
       "      <td>/home/ubuntu/michael/nl_images/images_data/A50...</td>\n",
       "      <td>1</td>\n",
       "    </tr>\n",
       "    <tr>\n",
       "      <th>1</th>\n",
       "      <td>A1-HM49-ID12953_20170914_0041.jpg</td>\n",
       "      <td>No Fog</td>\n",
       "      <td>0</td>\n",
       "      <td>Night</td>\n",
       "      <td>/home/ubuntu/michael/nl_images/images_data/A1-...</td>\n",
       "      <td>0</td>\n",
       "    </tr>\n",
       "    <tr>\n",
       "      <th>2</th>\n",
       "      <td>A15-HM793-ID12043_20190811_0020.jpg</td>\n",
       "      <td>No Fog</td>\n",
       "      <td>0</td>\n",
       "      <td>Night</td>\n",
       "      <td>/home/ubuntu/michael/nl_images/images_data/A15...</td>\n",
       "      <td>0</td>\n",
       "    </tr>\n",
       "    <tr>\n",
       "      <th>3</th>\n",
       "      <td>A50-HM1927-ID11617_20200121_2050.jpg</td>\n",
       "      <td>No Fog</td>\n",
       "      <td>0</td>\n",
       "      <td>Night</td>\n",
       "      <td>/home/ubuntu/michael/nl_images/images_data/A50...</td>\n",
       "      <td>0</td>\n",
       "    </tr>\n",
       "    <tr>\n",
       "      <th>4</th>\n",
       "      <td>A9-HM470-ID12831_20200121_2100.jpg</td>\n",
       "      <td>Fog</td>\n",
       "      <td>0</td>\n",
       "      <td>Night</td>\n",
       "      <td>/home/ubuntu/michael/nl_images/images_data/A9-...</td>\n",
       "      <td>1</td>\n",
       "    </tr>\n",
       "    <tr>\n",
       "      <th>...</th>\n",
       "      <td>...</td>\n",
       "      <td>...</td>\n",
       "      <td>...</td>\n",
       "      <td>...</td>\n",
       "      <td>...</td>\n",
       "      <td>...</td>\n",
       "    </tr>\n",
       "    <tr>\n",
       "      <th>2903</th>\n",
       "      <td>A9-HM469-ID12805_20190814_0130.jpg</td>\n",
       "      <td>No Fog</td>\n",
       "      <td>0</td>\n",
       "      <td>Night</td>\n",
       "      <td>/home/ubuntu/michael/nl_images/images_data/A9-...</td>\n",
       "      <td>0</td>\n",
       "    </tr>\n",
       "    <tr>\n",
       "      <th>2904</th>\n",
       "      <td>A50-HM1941-ID11612_20200122_2311.jpg</td>\n",
       "      <td>Fog</td>\n",
       "      <td>0</td>\n",
       "      <td>Night</td>\n",
       "      <td>/home/ubuntu/michael/nl_images/images_data/A50...</td>\n",
       "      <td>1</td>\n",
       "    </tr>\n",
       "    <tr>\n",
       "      <th>2905</th>\n",
       "      <td>A50-HM1894-ID11530_20200101_0621.jpg</td>\n",
       "      <td>Fog</td>\n",
       "      <td>20</td>\n",
       "      <td>Night</td>\n",
       "      <td>/home/ubuntu/michael/nl_images/images_data/A50...</td>\n",
       "      <td>1</td>\n",
       "    </tr>\n",
       "    <tr>\n",
       "      <th>2906</th>\n",
       "      <td>A50-HM1924-ID11541_20190812_0140.jpg</td>\n",
       "      <td>Fog</td>\n",
       "      <td>0</td>\n",
       "      <td>Night</td>\n",
       "      <td>/home/ubuntu/michael/nl_images/images_data/A50...</td>\n",
       "      <td>1</td>\n",
       "    </tr>\n",
       "    <tr>\n",
       "      <th>2907</th>\n",
       "      <td>A50-HM1858-ID11642_20191230_0331.jpg</td>\n",
       "      <td>No Fog</td>\n",
       "      <td>0</td>\n",
       "      <td>Night</td>\n",
       "      <td>/home/ubuntu/michael/nl_images/images_data/A50...</td>\n",
       "      <td>0</td>\n",
       "    </tr>\n",
       "  </tbody>\n",
       "</table>\n",
       "<p>2908 rows × 6 columns</p>\n",
       "</div>"
      ],
      "text/plain": [
       "                                  filename   label  day_phase  phase  \\\n",
       "0     A50-HM1841-ID11511_20200101_2041.jpg     Fog          0  Night   \n",
       "1        A1-HM49-ID12953_20170914_0041.jpg  No Fog          0  Night   \n",
       "2      A15-HM793-ID12043_20190811_0020.jpg  No Fog          0  Night   \n",
       "3     A50-HM1927-ID11617_20200121_2050.jpg  No Fog          0  Night   \n",
       "4       A9-HM470-ID12831_20200121_2100.jpg     Fog          0  Night   \n",
       "...                                    ...     ...        ...    ...   \n",
       "2903    A9-HM469-ID12805_20190814_0130.jpg  No Fog          0  Night   \n",
       "2904  A50-HM1941-ID11612_20200122_2311.jpg     Fog          0  Night   \n",
       "2905  A50-HM1894-ID11530_20200101_0621.jpg     Fog         20  Night   \n",
       "2906  A50-HM1924-ID11541_20190812_0140.jpg     Fog          0  Night   \n",
       "2907  A50-HM1858-ID11642_20191230_0331.jpg  No Fog          0  Night   \n",
       "\n",
       "                                               filepath  y_true  \n",
       "0     /home/ubuntu/michael/nl_images/images_data/A50...       1  \n",
       "1     /home/ubuntu/michael/nl_images/images_data/A1-...       0  \n",
       "2     /home/ubuntu/michael/nl_images/images_data/A15...       0  \n",
       "3     /home/ubuntu/michael/nl_images/images_data/A50...       0  \n",
       "4     /home/ubuntu/michael/nl_images/images_data/A9-...       1  \n",
       "...                                                 ...     ...  \n",
       "2903  /home/ubuntu/michael/nl_images/images_data/A9-...       0  \n",
       "2904  /home/ubuntu/michael/nl_images/images_data/A50...       1  \n",
       "2905  /home/ubuntu/michael/nl_images/images_data/A50...       1  \n",
       "2906  /home/ubuntu/michael/nl_images/images_data/A50...       1  \n",
       "2907  /home/ubuntu/michael/nl_images/images_data/A50...       0  \n",
       "\n",
       "[2908 rows x 6 columns]"
      ]
     },
     "execution_count": 7,
     "metadata": {},
     "output_type": "execute_result"
    }
   ],
   "source": [
    "night_df"
   ]
  },
  {
   "cell_type": "markdown",
   "id": "b6b9dbad",
   "metadata": {},
   "source": [
    "## **Create training, testing, and validation sets (of images)**"
   ]
  },
  {
   "cell_type": "code",
   "execution_count": 8,
   "id": "ea9c35b3",
   "metadata": {},
   "outputs": [],
   "source": [
    "# 80/10/10 split: train/val/test\n",
    "split_1 = int(0.8 * len(night_df.filename))\n",
    "split_2 = int(0.9 * len(night_df.filename))\n",
    "train_filenames = night_df.filename[:split_1]\n",
    "val_filenames = night_df.filename[split_1:split_2]\n",
    "test_filenames = night_df.filename[split_2:] "
   ]
  },
  {
   "cell_type": "code",
   "execution_count": 9,
   "id": "b605408e",
   "metadata": {},
   "outputs": [
    {
     "data": {
      "text/plain": [
       "2908"
      ]
     },
     "execution_count": 9,
     "metadata": {},
     "output_type": "execute_result"
    }
   ],
   "source": [
    "len(night_df.filename) #4360"
   ]
  },
  {
   "cell_type": "code",
   "execution_count": 10,
   "id": "150a2d74",
   "metadata": {},
   "outputs": [
    {
     "data": {
      "text/plain": [
       "291"
      ]
     },
     "execution_count": 10,
     "metadata": {},
     "output_type": "execute_result"
    }
   ],
   "source": [
    "len(train_filenames) #2326\n",
    "len(val_filenames) # 291\n",
    "len(test_filenames) # 291"
   ]
  },
  {
   "cell_type": "code",
   "execution_count": 30,
   "id": "9ce484a7-7fe3-435c-8d77-e6099687c6a3",
   "metadata": {},
   "outputs": [],
   "source": [
    "night_train_filenames = train_filenames\n",
    "night_val_filenames = val_filenames"
   ]
  },
  {
   "cell_type": "code",
   "execution_count": 31,
   "id": "caba7447-5b2f-4bf2-917f-b70478c841a1",
   "metadata": {},
   "outputs": [
    {
     "data": {
      "text/plain": [
       "0       A50-HM1841-ID11511_20200101_2041.jpg\n",
       "1          A1-HM49-ID12953_20170914_0041.jpg\n",
       "2        A15-HM793-ID12043_20190811_0020.jpg\n",
       "3       A50-HM1927-ID11617_20200121_2050.jpg\n",
       "4         A9-HM470-ID12831_20200121_2100.jpg\n",
       "                        ...                 \n",
       "2612    A50-HM1873-ID11522_20200122_0100.jpg\n",
       "2613    A50-HM1922-ID11619_20200101_2011.jpg\n",
       "2614      A2-HM742-ID10906_20200101_1920.jpg\n",
       "2615      A9-HM456-ID12840_20191231_1831.jpg\n",
       "2616    A28-HM1995-ID11816_20170915_2131.jpg\n",
       "Name: filename, Length: 2617, dtype: object"
      ]
     },
     "execution_count": 31,
     "metadata": {},
     "output_type": "execute_result"
    }
   ],
   "source": [
    "night_train_filenames = train_filenames # these files cannot be used in test set\n",
    "night_val_filenames = val_filenames # these files cannot be used in test set\n",
    "night_filenames = pd.concat([night_train_filenames, night_val_filenames])\n",
    "night_filenames # list of filenames that cannot be used in day test set"
   ]
  },
  {
   "cell_type": "code",
   "execution_count": 34,
   "id": "4f25ec61-e6a6-49f2-8130-26d6b596ed85",
   "metadata": {},
   "outputs": [
    {
     "data": {
      "text/plain": [
       "2617"
      ]
     },
     "execution_count": 34,
     "metadata": {},
     "output_type": "execute_result"
    }
   ],
   "source": [
    "len(night_filenames)"
   ]
  },
  {
   "cell_type": "code",
   "execution_count": 32,
   "id": "c82f0f7d-0d7e-4b26-b7b8-52500944a89d",
   "metadata": {},
   "outputs": [],
   "source": [
    "import pickle\n",
    "file_path = '/home/ubuntu/michael/my_pickles/'\n",
    "with open(file_path + 'night_filenames.pkl', 'wb') as f:pickle.dump(night_filenames, f)"
   ]
  },
  {
   "cell_type": "code",
   "execution_count": 11,
   "id": "fa38c92a-89ef-4818-a451-4c88253bedec",
   "metadata": {},
   "outputs": [],
   "source": [
    "# check % of entire sample_df is composed of training, validation and testing sets\n",
    "train_percent = len(train_filenames) / len(night_df) # 0.8\n",
    "validate_percent = len(val_filenames) / len(night_df) # 0.1\n",
    "test_percent = len(test_filenames) / len(night_df) # 0.1"
   ]
  },
  {
   "cell_type": "code",
   "execution_count": 12,
   "id": "a2963e7c",
   "metadata": {},
   "outputs": [],
   "source": [
    "# check to ensure fog and nofog files add up to sum in sample_df\n",
    "sum_sets = len(train_filenames) + len(val_filenames) + len(test_filenames)\n",
    "#sum_sets #2908"
   ]
  },
  {
   "cell_type": "code",
   "execution_count": 13,
   "id": "f09b84f2",
   "metadata": {},
   "outputs": [
    {
     "data": {
      "text/plain": [
       "0.8"
      ]
     },
     "execution_count": 13,
     "metadata": {},
     "output_type": "execute_result"
    }
   ],
   "source": [
    "# create a split for traininig\n",
    "split_1 = int(len(night_df.filename) * 0.8)\n",
    "split_1 #3488\n",
    "round(split_1 / len(night_df.filename),2) #0.80"
   ]
  },
  {
   "cell_type": "code",
   "execution_count": 14,
   "id": "916d3385",
   "metadata": {},
   "outputs": [
    {
     "data": {
      "text/plain": [
       "0.9"
      ]
     },
     "execution_count": 14,
     "metadata": {},
     "output_type": "execute_result"
    }
   ],
   "source": [
    "# create a split that will be used for testing and validation\n",
    "split_2 = int(0.9 * len(night_df.filename)) \n",
    "split_2 #3924\n",
    "round(split_2 / len(night_df.filename),2) #0.90"
   ]
  },
  {
   "cell_type": "code",
   "execution_count": 15,
   "id": "4a3a3cb3",
   "metadata": {},
   "outputs": [
    {
     "data": {
      "text/plain": [
       "0.1"
      ]
     },
     "execution_count": 15,
     "metadata": {},
     "output_type": "execute_result"
    }
   ],
   "source": [
    "# check difference between splits\n",
    "diff_1 = split_2 - split_1 #405\n",
    "round(diff_1 / len(night_df.filename),2) #0.10"
   ]
  },
  {
   "cell_type": "code",
   "execution_count": 16,
   "id": "a21543bb",
   "metadata": {},
   "outputs": [
    {
     "data": {
      "text/plain": [
       "0.1"
      ]
     },
     "execution_count": 16,
     "metadata": {},
     "output_type": "execute_result"
    }
   ],
   "source": [
    "# check difference between sample_df and split 2\n",
    "diff_2 = len(night_df.filename) - split_2 #405\n",
    "round(diff_2 / len(night_df.filename),2) #0.10"
   ]
  },
  {
   "cell_type": "markdown",
   "id": "ed3deb19",
   "metadata": {},
   "source": [
    "## **Check distribution of \"fog\" and \"no fog\" in each set**"
   ]
  },
  {
   "cell_type": "code",
   "execution_count": 17,
   "id": "b6a79314",
   "metadata": {},
   "outputs": [
    {
     "data": {
      "text/html": [
       "<div>\n",
       "<style scoped>\n",
       "    .dataframe tbody tr th:only-of-type {\n",
       "        vertical-align: middle;\n",
       "    }\n",
       "\n",
       "    .dataframe tbody tr th {\n",
       "        vertical-align: top;\n",
       "    }\n",
       "\n",
       "    .dataframe thead th {\n",
       "        text-align: right;\n",
       "    }\n",
       "</style>\n",
       "<table border=\"1\" class=\"dataframe\">\n",
       "  <thead>\n",
       "    <tr style=\"text-align: right;\">\n",
       "      <th></th>\n",
       "      <th>filename</th>\n",
       "      <th>label</th>\n",
       "      <th>day_phase</th>\n",
       "      <th>phase</th>\n",
       "      <th>filepath</th>\n",
       "      <th>y_true</th>\n",
       "    </tr>\n",
       "  </thead>\n",
       "  <tbody>\n",
       "    <tr>\n",
       "      <th>0</th>\n",
       "      <td>A50-HM1841-ID11511_20200101_2041.jpg</td>\n",
       "      <td>Fog</td>\n",
       "      <td>0</td>\n",
       "      <td>Night</td>\n",
       "      <td>/home/ubuntu/michael/nl_images/images_data/A50...</td>\n",
       "      <td>1</td>\n",
       "    </tr>\n",
       "    <tr>\n",
       "      <th>1</th>\n",
       "      <td>A1-HM49-ID12953_20170914_0041.jpg</td>\n",
       "      <td>No Fog</td>\n",
       "      <td>0</td>\n",
       "      <td>Night</td>\n",
       "      <td>/home/ubuntu/michael/nl_images/images_data/A1-...</td>\n",
       "      <td>0</td>\n",
       "    </tr>\n",
       "    <tr>\n",
       "      <th>2</th>\n",
       "      <td>A15-HM793-ID12043_20190811_0020.jpg</td>\n",
       "      <td>No Fog</td>\n",
       "      <td>0</td>\n",
       "      <td>Night</td>\n",
       "      <td>/home/ubuntu/michael/nl_images/images_data/A15...</td>\n",
       "      <td>0</td>\n",
       "    </tr>\n",
       "    <tr>\n",
       "      <th>3</th>\n",
       "      <td>A50-HM1927-ID11617_20200121_2050.jpg</td>\n",
       "      <td>No Fog</td>\n",
       "      <td>0</td>\n",
       "      <td>Night</td>\n",
       "      <td>/home/ubuntu/michael/nl_images/images_data/A50...</td>\n",
       "      <td>0</td>\n",
       "    </tr>\n",
       "    <tr>\n",
       "      <th>4</th>\n",
       "      <td>A9-HM470-ID12831_20200121_2100.jpg</td>\n",
       "      <td>Fog</td>\n",
       "      <td>0</td>\n",
       "      <td>Night</td>\n",
       "      <td>/home/ubuntu/michael/nl_images/images_data/A9-...</td>\n",
       "      <td>1</td>\n",
       "    </tr>\n",
       "    <tr>\n",
       "      <th>...</th>\n",
       "      <td>...</td>\n",
       "      <td>...</td>\n",
       "      <td>...</td>\n",
       "      <td>...</td>\n",
       "      <td>...</td>\n",
       "      <td>...</td>\n",
       "    </tr>\n",
       "    <tr>\n",
       "      <th>2321</th>\n",
       "      <td>A1-HM65-ID12966_20170916_0121.jpg</td>\n",
       "      <td>Fog</td>\n",
       "      <td>0</td>\n",
       "      <td>Night</td>\n",
       "      <td>/home/ubuntu/michael/nl_images/images_data/A1-...</td>\n",
       "      <td>1</td>\n",
       "    </tr>\n",
       "    <tr>\n",
       "      <th>2322</th>\n",
       "      <td>A28-HM1960-ID13520_20200101_0340.jpg</td>\n",
       "      <td>Fog</td>\n",
       "      <td>0</td>\n",
       "      <td>Night</td>\n",
       "      <td>/home/ubuntu/michael/nl_images/images_data/A28...</td>\n",
       "      <td>1</td>\n",
       "    </tr>\n",
       "    <tr>\n",
       "      <th>2323</th>\n",
       "      <td>A5-HM80-ID13769_20170917_0111.jpg</td>\n",
       "      <td>No Fog</td>\n",
       "      <td>0</td>\n",
       "      <td>Night</td>\n",
       "      <td>/home/ubuntu/michael/nl_images/images_data/A5-...</td>\n",
       "      <td>0</td>\n",
       "    </tr>\n",
       "    <tr>\n",
       "      <th>2324</th>\n",
       "      <td>A9-HM493-ID12818_20191003_1940.jpg</td>\n",
       "      <td>Fog</td>\n",
       "      <td>0</td>\n",
       "      <td>Night</td>\n",
       "      <td>/home/ubuntu/michael/nl_images/images_data/A9-...</td>\n",
       "      <td>1</td>\n",
       "    </tr>\n",
       "    <tr>\n",
       "      <th>2325</th>\n",
       "      <td>A15-HM206-ID12373_20170905_2300.jpg</td>\n",
       "      <td>Fog</td>\n",
       "      <td>0</td>\n",
       "      <td>Night</td>\n",
       "      <td>/home/ubuntu/michael/nl_images/images_data/A15...</td>\n",
       "      <td>1</td>\n",
       "    </tr>\n",
       "  </tbody>\n",
       "</table>\n",
       "<p>2326 rows × 6 columns</p>\n",
       "</div>"
      ],
      "text/plain": [
       "                                  filename   label  day_phase  phase  \\\n",
       "0     A50-HM1841-ID11511_20200101_2041.jpg     Fog          0  Night   \n",
       "1        A1-HM49-ID12953_20170914_0041.jpg  No Fog          0  Night   \n",
       "2      A15-HM793-ID12043_20190811_0020.jpg  No Fog          0  Night   \n",
       "3     A50-HM1927-ID11617_20200121_2050.jpg  No Fog          0  Night   \n",
       "4       A9-HM470-ID12831_20200121_2100.jpg     Fog          0  Night   \n",
       "...                                    ...     ...        ...    ...   \n",
       "2321     A1-HM65-ID12966_20170916_0121.jpg     Fog          0  Night   \n",
       "2322  A28-HM1960-ID13520_20200101_0340.jpg     Fog          0  Night   \n",
       "2323     A5-HM80-ID13769_20170917_0111.jpg  No Fog          0  Night   \n",
       "2324    A9-HM493-ID12818_20191003_1940.jpg     Fog          0  Night   \n",
       "2325   A15-HM206-ID12373_20170905_2300.jpg     Fog          0  Night   \n",
       "\n",
       "                                               filepath  y_true  \n",
       "0     /home/ubuntu/michael/nl_images/images_data/A50...       1  \n",
       "1     /home/ubuntu/michael/nl_images/images_data/A1-...       0  \n",
       "2     /home/ubuntu/michael/nl_images/images_data/A15...       0  \n",
       "3     /home/ubuntu/michael/nl_images/images_data/A50...       0  \n",
       "4     /home/ubuntu/michael/nl_images/images_data/A9-...       1  \n",
       "...                                                 ...     ...  \n",
       "2321  /home/ubuntu/michael/nl_images/images_data/A1-...       1  \n",
       "2322  /home/ubuntu/michael/nl_images/images_data/A28...       1  \n",
       "2323  /home/ubuntu/michael/nl_images/images_data/A5-...       0  \n",
       "2324  /home/ubuntu/michael/nl_images/images_data/A9-...       1  \n",
       "2325  /home/ubuntu/michael/nl_images/images_data/A15...       1  \n",
       "\n",
       "[2326 rows x 6 columns]"
      ]
     },
     "execution_count": 17,
     "metadata": {},
     "output_type": "execute_result"
    }
   ],
   "source": [
    "# split sample_df for training\n",
    "night_train_df = night_df[:split_1]\n",
    "night_train_df #2326"
   ]
  },
  {
   "cell_type": "code",
   "execution_count": 18,
   "id": "21a6341c-6fcd-4c47-909c-926b18c0c9f1",
   "metadata": {},
   "outputs": [
    {
     "data": {
      "text/plain": [
       "0.9914383561643836"
      ]
     },
     "execution_count": 18,
     "metadata": {},
     "output_type": "execute_result"
    }
   ],
   "source": [
    "# find ratio of fog to nofog images in training set\n",
    "night_train_fog = night_train_df[night_train_df.label == 'Fog']\n",
    "night_train_nofog = night_train_df[night_train_df.label == 'No Fog']\n",
    "night_train_ratio = (len(night_train_fog) / len(night_train_nofog))\n",
    "night_train_ratio # 0.9914"
   ]
  },
  {
   "cell_type": "code",
   "execution_count": 19,
   "id": "69305ad7-26e6-4301-ac44-e6b02270a447",
   "metadata": {},
   "outputs": [
    {
     "data": {
      "text/plain": [
       "1158"
      ]
     },
     "execution_count": 19,
     "metadata": {},
     "output_type": "execute_result"
    }
   ],
   "source": [
    "len(night_train_fog) #1158\n",
    "#len(night_train_nofog) #1168"
   ]
  },
  {
   "cell_type": "code",
   "execution_count": 20,
   "id": "00b4fb0e-1ac5-4e43-9544-8f11f9604845",
   "metadata": {},
   "outputs": [],
   "source": [
    "# split sample_df for validation\n",
    "night_val_df = night_df[split_1:split_2]\n",
    "#night_val_df #291"
   ]
  },
  {
   "cell_type": "code",
   "execution_count": 21,
   "id": "4a5237be",
   "metadata": {},
   "outputs": [
    {
     "data": {
      "text/plain": [
       "0.9662162162162162"
      ]
     },
     "execution_count": 21,
     "metadata": {},
     "output_type": "execute_result"
    }
   ],
   "source": [
    "# find ratio of fog to nofog images in validation set\n",
    "night_val_fog = night_val_df[night_val_df.label == 'Fog']\n",
    "night_val_nofog = night_val_df[night_val_df.label == 'No Fog']\n",
    "night_val_ratio = (len(night_val_fog) / len(night_val_nofog))\n",
    "night_val_ratio # 0.9662"
   ]
  },
  {
   "cell_type": "code",
   "execution_count": 22,
   "id": "f84ce360-9955-4343-b3d2-9c1df333815d",
   "metadata": {},
   "outputs": [
    {
     "data": {
      "text/plain": [
       "143"
      ]
     },
     "execution_count": 22,
     "metadata": {},
     "output_type": "execute_result"
    }
   ],
   "source": [
    "len(night_val_fog) #143"
   ]
  },
  {
   "cell_type": "code",
   "execution_count": 23,
   "id": "cc31b28e-f569-4322-846d-4eba0c12c91d",
   "metadata": {},
   "outputs": [
    {
     "data": {
      "text/plain": [
       "148"
      ]
     },
     "execution_count": 23,
     "metadata": {},
     "output_type": "execute_result"
    }
   ],
   "source": [
    "len(night_val_nofog) #148"
   ]
  },
  {
   "cell_type": "code",
   "execution_count": 24,
   "id": "db2658cd-add4-428c-b610-f59afb67cd88",
   "metadata": {},
   "outputs": [],
   "source": [
    "# split sample_df for testing\n",
    "night_test_df = night_df[split_2:]\n",
    "#night_test_df #291"
   ]
  },
  {
   "cell_type": "code",
   "execution_count": 25,
   "id": "35482860",
   "metadata": {},
   "outputs": [],
   "source": [
    "# find ratio of fog to nofog images in testing set\n",
    "night_test_fog = night_test_df[night_test_df.label == 'Fog']\n",
    "night_test_nofog = night_test_df[night_test_df.label == 'No Fog']\n",
    "night_test_ratio = (len(night_test_fog) / len(night_test_nofog))\n",
    "#night_test_ratio # 1.1087"
   ]
  },
  {
   "cell_type": "code",
   "execution_count": null,
   "id": "e30264bb-2a7c-4da9-b531-176150e64ed8",
   "metadata": {},
   "outputs": [],
   "source": []
  },
  {
   "cell_type": "code",
   "execution_count": 27,
   "id": "d31ddd74-1c79-4b62-8d76-3ea56db0a8f5",
   "metadata": {},
   "outputs": [
    {
     "data": {
      "text/plain": [
       "138"
      ]
     },
     "execution_count": 27,
     "metadata": {},
     "output_type": "execute_result"
    }
   ],
   "source": [
    "len(night_test_nofog) #138"
   ]
  },
  {
   "cell_type": "code",
   "execution_count": 28,
   "id": "12d6f2aa-b38b-4310-b2c0-67e14d25b881",
   "metadata": {},
   "outputs": [
    {
     "data": {
      "text/plain": [
       "153"
      ]
     },
     "execution_count": 28,
     "metadata": {},
     "output_type": "execute_result"
    }
   ],
   "source": [
    "len(night_test_fog) #153"
   ]
  },
  {
   "cell_type": "code",
   "execution_count": 39,
   "id": "57372245-1478-42ac-adf0-200d45de6c5c",
   "metadata": {},
   "outputs": [],
   "source": [
    "# save train/validation/testing dataframes\n",
    "night_train_df.to_pickle('/home/ubuntu/michael/my_pickles/night_train_df.pkl')\n",
    "night_val_df.to_pickle('/home/ubuntu/michael/my_pickles/night_val_df.pkl')\n",
    "night_test_df.to_pickle('/home/ubuntu/michael/my_pickles/night_test_df.pkl')"
   ]
  },
  {
   "cell_type": "markdown",
   "id": "3214b099-1033-4ba8-9962-bedda78b46d8",
   "metadata": {},
   "source": [
    "## **Save images to train/test/validation folders**"
   ]
  },
  {
   "cell_type": "code",
   "execution_count": 90,
   "id": "6704fe49-d773-40f3-8839-d568b21f984a",
   "metadata": {},
   "outputs": [],
   "source": [
    "# create lists of training filenames\n",
    "night_train_fog_filenames = night_train_fog.filename.tolist() \n",
    "night_train_nofog_filenames = night_train_nofog.filename.tolist() \n",
    "#len(night_train_fog_filenames) # 1158\n",
    "#len(night_train_nofog_filenames) # 1168\n",
    "#night_train_fog_filenames[0]\n",
    "#night_train_nofog_filenames[0]"
   ]
  },
  {
   "cell_type": "code",
   "execution_count": 92,
   "id": "1d80f14f-89a1-46a2-a638-82e389fdb1aa",
   "metadata": {},
   "outputs": [
    {
     "data": {
      "text/plain": [
       "143"
      ]
     },
     "execution_count": 92,
     "metadata": {},
     "output_type": "execute_result"
    }
   ],
   "source": [
    "# create lists of validation filenames\n",
    "night_val_fog_filenames = night_val_fog.filename.tolist()\n",
    "night_val_nofog_filenames = night_val_nofog.filename.tolist()\n",
    "#len(night_val_nofog_filenames) # 148\n",
    "#len(night_val_fog_filenames) # 143\n",
    "#night_val_nofog_filenames[0]\n",
    "#night_val_fog_filenames[0]"
   ]
  },
  {
   "cell_type": "code",
   "execution_count": 94,
   "id": "9bf185b7-4e8f-409a-b62f-ce62c420f419",
   "metadata": {},
   "outputs": [
    {
     "data": {
      "text/plain": [
       "153"
      ]
     },
     "execution_count": 94,
     "metadata": {},
     "output_type": "execute_result"
    }
   ],
   "source": [
    "# create list of testing filenames\n",
    "night_test_fog_filenames = night_test_fog.filename.tolist()\n",
    "night_test_nofog_filenames = night_test_nofog.filename.tolist()\n",
    "#len(night_test_nofog_filenames) # 138\n",
    "#len(night_test_fog_filenames) # 153\n",
    "#night_test_nofog_filenames[0]\n",
    "#night_test_fog_filenames[0]"
   ]
  },
  {
   "cell_type": "code",
   "execution_count": 100,
   "id": "a69b384f-e6fb-46dc-b997-44d9b3ae85c4",
   "metadata": {},
   "outputs": [],
   "source": [
    "# create a funtion to iterate through list of files in src_dir and copy to appropriate dst_dir\n",
    "\n",
    "src_dir = '/home/ubuntu/michael/nl_images/images_data/'\n",
    "\n",
    "def copyFiles(fn_list, src_dir, dst_dir):\n",
    "    for filename in fn_list:\n",
    "        #print(filename)\n",
    "        path = os.path.join(src_dir, filename)\n",
    "        if os.path.exists(path):\n",
    "            shutil.copyfile(path, dst_dir + '/' + filename)\n",
    "        else:\n",
    "            continue\n",
    "    return"
   ]
  },
  {
   "cell_type": "code",
   "execution_count": 112,
   "id": "41550757-40c1-4bcb-9d9c-3265eec1d716",
   "metadata": {},
   "outputs": [],
   "source": [
    "# call function to copy files from src_dir to dst_dir folder\n",
    "\n",
    "#dst_dir_train_fog = '/home/ubuntu/michael/night/train/fog' \n",
    "#copyFiles(night_train_fog_filenames, src_dir, dst_dir_train_fog)\n",
    "\n",
    "#dst_dir_train_nofog = '/home/ubuntu/michael/night/train/nofog/' \n",
    "#copyFiles(night_train_nofog_filenames, src_dir, dst_dir_train_nofog)\n",
    "\n",
    "#dst_dir_val_fog = '/home/ubuntu/michael/night/validate/fog/' \n",
    "#copyFiles(night_val_fog_filenames, src_dir, dst_dir_val_fog)\n",
    "\n",
    "#dst_dir_val_nofog = '/home/ubuntu/michael/night/validate/nofog/'\n",
    "#copyFiles(night_val_nofog_filenames, src_dir, dst_dir_val_nofog )\n",
    "\n",
    "#dst_dir_test_fog = '/home/ubuntu/michael/night/test/fog/' \n",
    "#copyFiles(night_test_fog_filenames, src_dir, dst_dir_test_fog)\n",
    "\n",
    "dst_dir_test_nofog = '/home/ubuntu/michael/night/test/nofog/' \n",
    "copyFiles(night_test_nofog_filenames, src_dir, dst_dir_test_nofog )"
   ]
  },
  {
   "cell_type": "code",
   "execution_count": 102,
   "id": "229d05ec-9c8a-4bd5-bc5a-4996ab9db083",
   "metadata": {},
   "outputs": [],
   "source": [
    "# count files in each folder\n",
    "def fileCount(img_dir):\n",
    "    file_count = len([file for file in os.listdir(img_dir) if file.endswith('.jpg')])\n",
    "    return file_count"
   ]
  },
  {
   "cell_type": "code",
   "execution_count": 103,
   "id": "27cefe14-e3a1-41e6-8029-9d33e5b86503",
   "metadata": {},
   "outputs": [
    {
     "data": {
      "text/plain": [
       "1158"
      ]
     },
     "execution_count": 103,
     "metadata": {},
     "output_type": "execute_result"
    }
   ],
   "source": [
    "n_tr_f_count = fileCount('/home/ubuntu/michael/night/train/fog')\n",
    "n_tr_f_count"
   ]
  },
  {
   "cell_type": "code",
   "execution_count": 105,
   "id": "ba3ba106-0e22-4115-ad96-321f5e657dfb",
   "metadata": {},
   "outputs": [
    {
     "data": {
      "text/plain": [
       "1168"
      ]
     },
     "execution_count": 105,
     "metadata": {},
     "output_type": "execute_result"
    }
   ],
   "source": [
    "n_tr_nf_count = fileCount('/home/ubuntu/michael/night/train/nofog/')\n",
    "n_tr_nf_count"
   ]
  },
  {
   "cell_type": "code",
   "execution_count": 107,
   "id": "bdd2b7c6-bbff-4ca5-acbf-4713b0392195",
   "metadata": {},
   "outputs": [
    {
     "data": {
      "text/plain": [
       "143"
      ]
     },
     "execution_count": 107,
     "metadata": {},
     "output_type": "execute_result"
    }
   ],
   "source": [
    "n_val_f_count = fileCount('/home/ubuntu/michael/night/validate/fog/')\n",
    "n_val_f_count"
   ]
  },
  {
   "cell_type": "code",
   "execution_count": 109,
   "id": "289a5146-bcd3-45c4-8408-e012fa7ac5a0",
   "metadata": {},
   "outputs": [
    {
     "data": {
      "text/plain": [
       "148"
      ]
     },
     "execution_count": 109,
     "metadata": {},
     "output_type": "execute_result"
    }
   ],
   "source": [
    "n_val_nf_count = fileCount('/home/ubuntu/michael/night/validate/nofog/')\n",
    "n_val_nf_count"
   ]
  },
  {
   "cell_type": "code",
   "execution_count": 111,
   "id": "cdf6c810-d0f2-4736-9a65-155ca16ef8c2",
   "metadata": {},
   "outputs": [
    {
     "data": {
      "text/plain": [
       "153"
      ]
     },
     "execution_count": 111,
     "metadata": {},
     "output_type": "execute_result"
    }
   ],
   "source": [
    "n_te_f_count = fileCount('/home/ubuntu/michael/night/test/fog/')\n",
    "n_te_f_count"
   ]
  },
  {
   "cell_type": "code",
   "execution_count": 113,
   "id": "7c7d26d3-180a-4af8-a367-cfaa94823543",
   "metadata": {},
   "outputs": [
    {
     "data": {
      "text/plain": [
       "138"
      ]
     },
     "execution_count": 113,
     "metadata": {},
     "output_type": "execute_result"
    }
   ],
   "source": [
    "n_te_nf_count = fileCount('/home/ubuntu/michael/night/test/nofog/')\n",
    "n_te_nf_count"
   ]
  }
 ],
 "metadata": {
  "kernelspec": {
   "display_name": "Python 3",
   "language": "python",
   "name": "python3"
  },
  "language_info": {
   "codemirror_mode": {
    "name": "ipython",
    "version": 3
   },
   "file_extension": ".py",
   "mimetype": "text/x-python",
   "name": "python",
   "nbconvert_exporter": "python",
   "pygments_lexer": "ipython3",
   "version": "3.8.8"
  }
 },
 "nbformat": 4,
 "nbformat_minor": 5
}
