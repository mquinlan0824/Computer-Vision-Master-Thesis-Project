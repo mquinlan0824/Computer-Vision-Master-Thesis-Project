{
 "cells": [
  {
   "cell_type": "markdown",
   "id": "8fde421f",
   "metadata": {},
   "source": [
    "## **Model Tuning: Transfer Learning with VGG16**\n",
    "\n",
    "This script is used for the following:\n",
    "1. load day or night sample images\n",
    "2. load and train model on images\n",
    "3. export model evaluaiton metrics "
   ]
  },
  {
   "cell_type": "code",
   "execution_count": 1,
   "id": "ccf2bf7d",
   "metadata": {},
   "outputs": [],
   "source": [
    "# import necessary libraries\n",
    "import os\n",
    "import pickle\n",
    "import pandas as pd\n",
    "import tensorflow as tf\n",
    "from tensorflow.keras.callbacks import ModelCheckpoint\n",
    "from tensorflow.keras.preprocessing.image import ImageDataGenerator\n",
    "from tensorflow.keras import backend as K\n",
    "import tensorflow.keras.models\n",
    "from tensorflow.keras.models import Sequential\n",
    "from tensorflow.keras.layers import Dense, Flatten, Dropout, Lambda\n",
    "from tensorflow.keras.applications.xception import preprocess_input\n",
    "from tensorflow.keras.optimizers import RMSprop, SGD\n",
    "from tensorflow.keras.applications import VGG16"
   ]
  },
  {
   "cell_type": "markdown",
   "id": "4c0cfd9f-b8eb-4143-96e0-716cd9d21de3",
   "metadata": {},
   "source": [
    "## **Load image dataframe**"
   ]
  },
  {
   "cell_type": "code",
   "execution_count": 2,
   "id": "3083fdf3-5799-4339-8437-69b25bd5c700",
   "metadata": {},
   "outputs": [],
   "source": [
    "# point to source directory for pickle files\n",
    "path = '/home/ubuntu/michael/my_pickles/'"
   ]
  },
  {
   "cell_type": "code",
   "execution_count": 3,
   "id": "c1006fa7-9274-4f0b-861f-f31183019420",
   "metadata": {},
   "outputs": [],
   "source": [
    "# choose day or night dataframe for reference\n",
    "#infile = 'day_df.pkl'\n",
    "infile = 'night_df.pkl'"
   ]
  },
  {
   "cell_type": "code",
   "execution_count": 4,
   "id": "b3441370-b739-450c-ab25-25c9ef2ab6b2",
   "metadata": {},
   "outputs": [
    {
     "data": {
      "text/html": [
       "<div>\n",
       "<style scoped>\n",
       "    .dataframe tbody tr th:only-of-type {\n",
       "        vertical-align: middle;\n",
       "    }\n",
       "\n",
       "    .dataframe tbody tr th {\n",
       "        vertical-align: top;\n",
       "    }\n",
       "\n",
       "    .dataframe thead th {\n",
       "        text-align: right;\n",
       "    }\n",
       "</style>\n",
       "<table border=\"1\" class=\"dataframe\">\n",
       "  <thead>\n",
       "    <tr style=\"text-align: right;\">\n",
       "      <th></th>\n",
       "      <th>filename</th>\n",
       "      <th>label</th>\n",
       "      <th>day_phase</th>\n",
       "      <th>phase</th>\n",
       "      <th>filepath</th>\n",
       "    </tr>\n",
       "  </thead>\n",
       "  <tbody>\n",
       "    <tr>\n",
       "      <th>52183</th>\n",
       "      <td>A9-HM470-ID12831_20200101_0331.jpg</td>\n",
       "      <td>Fog</td>\n",
       "      <td>0</td>\n",
       "      <td>Night</td>\n",
       "      <td>/home/ubuntu/michael/nl_images/images_data/A9-...</td>\n",
       "    </tr>\n",
       "    <tr>\n",
       "      <th>51511</th>\n",
       "      <td>A9-HM467-ID12834_20191231_2051.jpg</td>\n",
       "      <td>Fog</td>\n",
       "      <td>0</td>\n",
       "      <td>Night</td>\n",
       "      <td>/home/ubuntu/michael/nl_images/images_data/A9-...</td>\n",
       "    </tr>\n",
       "    <tr>\n",
       "      <th>42537</th>\n",
       "      <td>A9-HM467-ID12834_20200101_0101.jpg</td>\n",
       "      <td>Fog</td>\n",
       "      <td>0</td>\n",
       "      <td>Night</td>\n",
       "      <td>/home/ubuntu/michael/nl_images/images_data/A9-...</td>\n",
       "    </tr>\n",
       "    <tr>\n",
       "      <th>37402</th>\n",
       "      <td>A50-HM1867-ID11639_20191231_0651.jpg</td>\n",
       "      <td>Fog</td>\n",
       "      <td>20</td>\n",
       "      <td>Night</td>\n",
       "      <td>/home/ubuntu/michael/nl_images/images_data/A50...</td>\n",
       "    </tr>\n",
       "    <tr>\n",
       "      <th>1220</th>\n",
       "      <td>A50-HM1868-ID11520_20190322_0201.jpg</td>\n",
       "      <td>Fog</td>\n",
       "      <td>0</td>\n",
       "      <td>Night</td>\n",
       "      <td>/home/ubuntu/michael/nl_images/images_data/A50...</td>\n",
       "    </tr>\n",
       "    <tr>\n",
       "      <th>...</th>\n",
       "      <td>...</td>\n",
       "      <td>...</td>\n",
       "      <td>...</td>\n",
       "      <td>...</td>\n",
       "      <td>...</td>\n",
       "    </tr>\n",
       "    <tr>\n",
       "      <th>8855</th>\n",
       "      <td>A27-HM675-ID10959_20170913_0421.jpg</td>\n",
       "      <td>No Fog</td>\n",
       "      <td>20</td>\n",
       "      <td>Night</td>\n",
       "      <td>/home/ubuntu/michael/nl_images/images_data/A27...</td>\n",
       "    </tr>\n",
       "    <tr>\n",
       "      <th>3946</th>\n",
       "      <td>A9-HM470-ID12806_20190504_0011.jpg</td>\n",
       "      <td>No Fog</td>\n",
       "      <td>0</td>\n",
       "      <td>Night</td>\n",
       "      <td>/home/ubuntu/michael/nl_images/images_data/A9-...</td>\n",
       "    </tr>\n",
       "    <tr>\n",
       "      <th>30941</th>\n",
       "      <td>A50-HM1888-ID11528_20181009_1901.jpg</td>\n",
       "      <td>No Fog</td>\n",
       "      <td>0</td>\n",
       "      <td>Night</td>\n",
       "      <td>/home/ubuntu/michael/nl_images/images_data/A50...</td>\n",
       "    </tr>\n",
       "    <tr>\n",
       "      <th>8528</th>\n",
       "      <td>A4-HM52-ID11043_20170906_2250.jpg</td>\n",
       "      <td>No Fog</td>\n",
       "      <td>0</td>\n",
       "      <td>Night</td>\n",
       "      <td>/home/ubuntu/michael/nl_images/images_data/A4-...</td>\n",
       "    </tr>\n",
       "    <tr>\n",
       "      <th>3548</th>\n",
       "      <td>A9-HM492-ID12819_20190412_0040.jpg</td>\n",
       "      <td>No Fog</td>\n",
       "      <td>0</td>\n",
       "      <td>Night</td>\n",
       "      <td>/home/ubuntu/michael/nl_images/images_data/A9-...</td>\n",
       "    </tr>\n",
       "  </tbody>\n",
       "</table>\n",
       "<p>2908 rows × 5 columns</p>\n",
       "</div>"
      ],
      "text/plain": [
       "                                   filename   label  day_phase  phase  \\\n",
       "52183    A9-HM470-ID12831_20200101_0331.jpg     Fog          0  Night   \n",
       "51511    A9-HM467-ID12834_20191231_2051.jpg     Fog          0  Night   \n",
       "42537    A9-HM467-ID12834_20200101_0101.jpg     Fog          0  Night   \n",
       "37402  A50-HM1867-ID11639_20191231_0651.jpg     Fog         20  Night   \n",
       "1220   A50-HM1868-ID11520_20190322_0201.jpg     Fog          0  Night   \n",
       "...                                     ...     ...        ...    ...   \n",
       "8855    A27-HM675-ID10959_20170913_0421.jpg  No Fog         20  Night   \n",
       "3946     A9-HM470-ID12806_20190504_0011.jpg  No Fog          0  Night   \n",
       "30941  A50-HM1888-ID11528_20181009_1901.jpg  No Fog          0  Night   \n",
       "8528      A4-HM52-ID11043_20170906_2250.jpg  No Fog          0  Night   \n",
       "3548     A9-HM492-ID12819_20190412_0040.jpg  No Fog          0  Night   \n",
       "\n",
       "                                                filepath  \n",
       "52183  /home/ubuntu/michael/nl_images/images_data/A9-...  \n",
       "51511  /home/ubuntu/michael/nl_images/images_data/A9-...  \n",
       "42537  /home/ubuntu/michael/nl_images/images_data/A9-...  \n",
       "37402  /home/ubuntu/michael/nl_images/images_data/A50...  \n",
       "1220   /home/ubuntu/michael/nl_images/images_data/A50...  \n",
       "...                                                  ...  \n",
       "8855   /home/ubuntu/michael/nl_images/images_data/A27...  \n",
       "3946   /home/ubuntu/michael/nl_images/images_data/A9-...  \n",
       "30941  /home/ubuntu/michael/nl_images/images_data/A50...  \n",
       "8528   /home/ubuntu/michael/nl_images/images_data/A4-...  \n",
       "3548   /home/ubuntu/michael/nl_images/images_data/A9-...  \n",
       "\n",
       "[2908 rows x 5 columns]"
      ]
     },
     "execution_count": 4,
     "metadata": {},
     "output_type": "execute_result"
    }
   ],
   "source": [
    "# set reference dataframe\n",
    "sample_df = pd.read_pickle(path + infile)\n",
    "sample_df"
   ]
  },
  {
   "cell_type": "markdown",
   "id": "95b860a6-85e1-4e24-8444-eaf6cb700ec4",
   "metadata": {},
   "source": [
    "## **Set source directories to day or night images**"
   ]
  },
  {
   "cell_type": "code",
   "execution_count": null,
   "id": "2a5dd5ee-d9d0-4e22-9e9e-8a4bc4460d61",
   "metadata": {},
   "outputs": [],
   "source": [
    "# to access day images only\n",
    "train_dir = '/home/ubuntu/michael/day/train'\n",
    "val_dir = '/home/ubuntu/michael/day/validate'"
   ]
  },
  {
   "cell_type": "code",
   "execution_count": 5,
   "id": "f0982963-16c4-409f-88cc-adf2ea7483a3",
   "metadata": {},
   "outputs": [],
   "source": [
    "# to access night images only\n",
    "train_dir = '/home/ubuntu/michael/night/train'\n",
    "val_dir = '/home/ubuntu/michael/night/validate'"
   ]
  },
  {
   "cell_type": "markdown",
   "id": "1d8a809c-cded-4f2a-acf0-82441b8cc3d9",
   "metadata": {},
   "source": [
    "## **Loading images with Keras**"
   ]
  },
  {
   "cell_type": "code",
   "execution_count": 6,
   "id": "4a326569",
   "metadata": {},
   "outputs": [],
   "source": [
    "# clear memory\n",
    "K.clear_session()"
   ]
  },
  {
   "cell_type": "code",
   "execution_count": 7,
   "id": "c288f4be-44cc-49f4-8c72-cb5774600120",
   "metadata": {},
   "outputs": [],
   "source": [
    "# set image size and shape\n",
    "img_size = (224, 224)\n",
    "img_shape = (224, 224, 3)"
   ]
  },
  {
   "cell_type": "code",
   "execution_count": 8,
   "id": "38159364-eeb2-4095-9685-040aacc67943",
   "metadata": {},
   "outputs": [],
   "source": [
    "train_datagen = ImageDataGenerator(rescale = 1./255., rotation_range = 40, \n",
    "                                   width_shift_range = 0.2, height_shift_range = 0.2,\n",
    "                                   shear_range = 0.2, zoom_range = 0.2, horizontal_flip = True)"
   ]
  },
  {
   "cell_type": "code",
   "execution_count": 9,
   "id": "175b102e-9d20-45d6-bd38-31e65bc6bfc6",
   "metadata": {},
   "outputs": [],
   "source": [
    "# create data generators\n",
    "datagen = ImageDataGenerator(rescale = 1.0 / 255.0) #scale pixel values to be in the range of 0-1"
   ]
  },
  {
   "cell_type": "code",
   "execution_count": 10,
   "id": "0606f985-5676-4c04-8673-8eb4b89cebd3",
   "metadata": {},
   "outputs": [
    {
     "name": "stdout",
     "output_type": "stream",
     "text": [
      "Found 2326 images belonging to 2 classes.\n"
     ]
    }
   ],
   "source": [
    "# prepare training iterator\n",
    "train_it = datagen.flow_from_directory(directory = train_dir, classes = ['nofog', 'fog'], class_mode = 'binary', \n",
    "                    batch_size = 64, target_size = img_size) \n",
    "# flip classes due to alphabetical order; fog would be 0 since it preceeds nofog in the alphabet"
   ]
  },
  {
   "cell_type": "code",
   "execution_count": 11,
   "id": "2f5bd9ac-59be-4428-a174-dc8b729da81d",
   "metadata": {},
   "outputs": [],
   "source": [
    "# lists all assignments of images [0 = nofog; 1 = fog]\n",
    "class_names = train_it.classes \n",
    "class_indices = train_it.class_indices"
   ]
  },
  {
   "cell_type": "code",
   "execution_count": 12,
   "id": "5e20142f-564a-4d2d-bfba-9e5e013f5139",
   "metadata": {},
   "outputs": [
    {
     "name": "stdout",
     "output_type": "stream",
     "text": [
      "Found 291 images belonging to 2 classes.\n"
     ]
    }
   ],
   "source": [
    "# prepare validation iterator\n",
    "valid_it = datagen.flow_from_directory(directory = val_dir, classes = ['nofog', 'fog'], class_mode = 'binary', \n",
    "                    batch_size = 16, target_size = img_size)\n",
    "# flip classes due to alphabetical order; fog would be 0 since it preceeds nofog in the alphabet"
   ]
  },
  {
   "cell_type": "code",
   "execution_count": 13,
   "id": "286a5997-67a4-4307-a3db-a2d2f7f8027a",
   "metadata": {},
   "outputs": [],
   "source": [
    "class_names = valid_it.classes\n",
    "class_indices = valid_it.class_indices"
   ]
  },
  {
   "cell_type": "markdown",
   "id": "eb613d33-e1cc-4d3e-9ba9-d2abe5351185",
   "metadata": {},
   "source": [
    "## **Load VGG16 model as convoutional base**"
   ]
  },
  {
   "cell_type": "code",
   "execution_count": 14,
   "id": "cf60e67f-5ab4-48b1-98e8-43e3099ed875",
   "metadata": {},
   "outputs": [],
   "source": [
    "# load convolutional base model\n",
    "conv_base = VGG16(weights = 'imagenet', # weights specifies the weight checkpoint from which to initialize model\n",
    "                 include_top=False, # refers to including or not including the densely connected classifier on top of the networks (By default it contains 1000 classes but we only need 2!)\n",
    "                 input_shape= img_shape) # shape of image tensors fed to network (optional). If not passed, network can process inputs of any size."
   ]
  },
  {
   "cell_type": "code",
   "execution_count": 15,
   "id": "c91227b3-3a49-47cc-af4b-b6e2ab589ce5",
   "metadata": {},
   "outputs": [],
   "source": [
    "# freeze base layers\n",
    "conv_base.trainable = False"
   ]
  },
  {
   "cell_type": "code",
   "execution_count": 16,
   "id": "66af4ed5-b4c1-4a3b-a5fb-a2be5a4be1a3",
   "metadata": {},
   "outputs": [
    {
     "name": "stdout",
     "output_type": "stream",
     "text": [
      "Model: \"vgg16\"\n",
      "_________________________________________________________________\n",
      "Layer (type)                 Output Shape              Param #   \n",
      "=================================================================\n",
      "input_1 (InputLayer)         [(None, 224, 224, 3)]     0         \n",
      "_________________________________________________________________\n",
      "block1_conv1 (Conv2D)        (None, 224, 224, 64)      1792      \n",
      "_________________________________________________________________\n",
      "block1_conv2 (Conv2D)        (None, 224, 224, 64)      36928     \n",
      "_________________________________________________________________\n",
      "block1_pool (MaxPooling2D)   (None, 112, 112, 64)      0         \n",
      "_________________________________________________________________\n",
      "block2_conv1 (Conv2D)        (None, 112, 112, 128)     73856     \n",
      "_________________________________________________________________\n",
      "block2_conv2 (Conv2D)        (None, 112, 112, 128)     147584    \n",
      "_________________________________________________________________\n",
      "block2_pool (MaxPooling2D)   (None, 56, 56, 128)       0         \n",
      "_________________________________________________________________\n",
      "block3_conv1 (Conv2D)        (None, 56, 56, 256)       295168    \n",
      "_________________________________________________________________\n",
      "block3_conv2 (Conv2D)        (None, 56, 56, 256)       590080    \n",
      "_________________________________________________________________\n",
      "block3_conv3 (Conv2D)        (None, 56, 56, 256)       590080    \n",
      "_________________________________________________________________\n",
      "block3_pool (MaxPooling2D)   (None, 28, 28, 256)       0         \n",
      "_________________________________________________________________\n",
      "block4_conv1 (Conv2D)        (None, 28, 28, 512)       1180160   \n",
      "_________________________________________________________________\n",
      "block4_conv2 (Conv2D)        (None, 28, 28, 512)       2359808   \n",
      "_________________________________________________________________\n",
      "block4_conv3 (Conv2D)        (None, 28, 28, 512)       2359808   \n",
      "_________________________________________________________________\n",
      "block4_pool (MaxPooling2D)   (None, 14, 14, 512)       0         \n",
      "_________________________________________________________________\n",
      "block5_conv1 (Conv2D)        (None, 14, 14, 512)       2359808   \n",
      "_________________________________________________________________\n",
      "block5_conv2 (Conv2D)        (None, 14, 14, 512)       2359808   \n",
      "_________________________________________________________________\n",
      "block5_conv3 (Conv2D)        (None, 14, 14, 512)       2359808   \n",
      "_________________________________________________________________\n",
      "block5_pool (MaxPooling2D)   (None, 7, 7, 512)         0         \n",
      "=================================================================\n",
      "Total params: 14,714,688\n",
      "Trainable params: 0\n",
      "Non-trainable params: 14,714,688\n",
      "_________________________________________________________________\n"
     ]
    }
   ],
   "source": [
    "conv_base.summary() # architecture of the VGG16 convolutional base"
   ]
  },
  {
   "cell_type": "markdown",
   "id": "60c19f0d",
   "metadata": {},
   "source": [
    "# **Add classifier on top of convolutional base**"
   ]
  },
  {
   "cell_type": "code",
   "execution_count": 17,
   "id": "9e25b27b-a19f-4c7b-b348-c0733b0f6939",
   "metadata": {},
   "outputs": [],
   "source": [
    "# load baseline model\n",
    "model = Sequential()\n",
    "model.add(conv_base)\n",
    "model.add(Flatten())\n",
    "model.add(Dense(128, activation = 'relu', kernel_initializer = 'he_uniform'))\n",
    "model.add(Dense(1, activation = 'sigmoid', name = 'output'))"
   ]
  },
  {
   "cell_type": "code",
   "execution_count": 18,
   "id": "02fa82af-41f3-4f0d-baba-d2083677f73c",
   "metadata": {},
   "outputs": [
    {
     "name": "stdout",
     "output_type": "stream",
     "text": [
      "Model: \"sequential\"\n",
      "_________________________________________________________________\n",
      "Layer (type)                 Output Shape              Param #   \n",
      "=================================================================\n",
      "vgg16 (Functional)           (None, 7, 7, 512)         14714688  \n",
      "_________________________________________________________________\n",
      "flatten (Flatten)            (None, 25088)             0         \n",
      "_________________________________________________________________\n",
      "dense (Dense)                (None, 128)               3211392   \n",
      "_________________________________________________________________\n",
      "output (Dense)               (None, 1)                 129       \n",
      "=================================================================\n",
      "Total params: 17,926,209\n",
      "Trainable params: 3,211,521\n",
      "Non-trainable params: 14,714,688\n",
      "_________________________________________________________________\n"
     ]
    }
   ],
   "source": [
    "model.summary()"
   ]
  },
  {
   "cell_type": "code",
   "execution_count": 19,
   "id": "41a0b21e-e27e-4efb-8540-fb579fa824cc",
   "metadata": {},
   "outputs": [],
   "source": [
    "# compile model\n",
    "opt = SGD(learning_rate = 0.001, momentum = 0.6)\n",
    "model.compile(optimizer = opt, loss = 'binary_crossentropy', metrics = ['accuracy'])"
   ]
  },
  {
   "cell_type": "code",
   "execution_count": 20,
   "id": "ed1a76ad-2edf-45e3-b2ab-622a83c88bbe",
   "metadata": {},
   "outputs": [],
   "source": [
    "# add early stopping to force model to terminate when learning has ceased\n",
    "es = tf.keras.callbacks.EarlyStopping(monitor = 'val_loss', min_delta = 0, mode = 'auto', patience=7, verbose = 1) "
   ]
  },
  {
   "cell_type": "code",
   "execution_count": 21,
   "id": "c6b4118c-9465-4624-90c1-61cb88c7334f",
   "metadata": {},
   "outputs": [],
   "source": [
    "# choose day or night output folder\n",
    "outputFolder = '/home/ubuntu/michael/model_output/VGG16/'\n",
    "#outputFolder = '/home/ubuntu/michael/model_output/VGG16/day/'\n",
    "#outputFolder = '/home/ubuntu/michael/model_output/VGG16/night/'\n",
    "if not os.path.exists(outputFolder):\n",
    "    os.makedirs(outputFolder)"
   ]
  },
  {
   "cell_type": "code",
   "execution_count": 22,
   "id": "e7163669-5e47-419c-bab3-44f7a39fec0d",
   "metadata": {},
   "outputs": [],
   "source": [
    "# define chekpoint path and add checkpoints\n",
    "checkpoint_path = outputFolder + 'VGG16_model.hdf5'\n",
    "\n",
    "# create a model checkpoint when condtions are met\n",
    "cp = ModelCheckpoint(checkpoint_path, monitor = 'val_loss', mode = 'auto', save_best_only=True)"
   ]
  },
  {
   "cell_type": "code",
   "execution_count": 23,
   "id": "2ef71eef",
   "metadata": {},
   "outputs": [
    {
     "name": "stdout",
     "output_type": "stream",
     "text": [
      "Epoch 1/3\n",
      "37/37 [==============================] - 45s 945ms/step - loss: 0.6108 - accuracy: 0.6405 - val_loss: 0.4366 - val_accuracy: 0.8213\n",
      "Epoch 2/3\n",
      "37/37 [==============================] - 11s 279ms/step - loss: 0.4070 - accuracy: 0.8424 - val_loss: 0.4159 - val_accuracy: 0.8247\n",
      "Epoch 3/3\n",
      "37/37 [==============================] - 10s 271ms/step - loss: 0.3732 - accuracy: 0.8474 - val_loss: 0.3648 - val_accuracy: 0.8522\n"
     ]
    }
   ],
   "source": [
    "# fit model to data and run evaluation\n",
    "history = model.fit(train_it, steps_per_epoch = len(train_it), \n",
    "                epochs = 3, validation_data = valid_it, callbacks=[es, cp], validation_steps = len(valid_it), verbose = 1) "
   ]
  },
  {
   "cell_type": "code",
   "execution_count": 24,
   "id": "2283b8f9-8c7d-4160-8e6e-8af00a707fc8",
   "metadata": {},
   "outputs": [
    {
     "name": "stdout",
     "output_type": "stream",
     "text": [
      "19/19 [==============================] - 1s 61ms/step - loss: 0.3648 - accuracy: 0.8522\n"
     ]
    }
   ],
   "source": [
    "# evaluate model\n",
    "score = model.evaluate(valid_it, steps=len(valid_it), verbose = 1)"
   ]
  },
  {
   "cell_type": "code",
   "execution_count": 25,
   "id": "c58a3cbb-de40-4a06-a79c-2638159d6e9e",
   "metadata": {},
   "outputs": [],
   "source": [
    "# save model validation score\n",
    "with open(outputFolder + 'VGG16_score.pkl', 'wb') as f:pickle.dump(score, f)"
   ]
  },
  {
   "cell_type": "markdown",
   "id": "6cf9c077-e5e6-4485-abdd-cdcff082d314",
   "metadata": {},
   "source": [
    "## **Store data from history object in dataframe**"
   ]
  },
  {
   "cell_type": "code",
   "execution_count": 26,
   "id": "2a3e8f4a-5ac2-444c-b4a8-047b47cdaa7e",
   "metadata": {},
   "outputs": [],
   "source": [
    "# access accuracy and loss values from history object\n",
    "loss_values = history.history['loss']\n",
    "acc_values = history.history['accuracy']\n",
    "valLoss_values = history.history['val_loss']\n",
    "valAccuracy_values = history.history['val_accuracy']\n",
    "\n",
    "# store loss and accuracy values in a dataframe\n",
    "history_df = pd.DataFrame()\n",
    "history_df['Training Loss'] = history.history['loss']\n",
    "history_df['Training Accuracy'] = history.history['accuracy']\n",
    "history_df['Validation Loss'] = history.history['val_loss']\n",
    "history_df['Validation Accuracy'] = history.history['val_accuracy']"
   ]
  },
  {
   "cell_type": "code",
   "execution_count": 27,
   "id": "232d3d52-cad1-4f51-8194-c87ad0109975",
   "metadata": {},
   "outputs": [],
   "source": [
    "# save history data\n",
    "history_df.to_pickle(outputFolder + 'VGG16_history.pkl')"
   ]
  }
 ],
 "metadata": {
  "kernelspec": {
   "display_name": "Python 3",
   "language": "python",
   "name": "python3"
  },
  "language_info": {
   "codemirror_mode": {
    "name": "ipython",
    "version": 3
   },
   "file_extension": ".py",
   "mimetype": "text/x-python",
   "name": "python",
   "nbconvert_exporter": "python",
   "pygments_lexer": "ipython3",
   "version": "3.8.8"
  }
 },
 "nbformat": 4,
 "nbformat_minor": 5
}
