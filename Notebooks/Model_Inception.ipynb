{
 "cells": [
  {
   "cell_type": "markdown",
   "id": "b937aeeb-0df7-46f6-b103-4007c4931295",
   "metadata": {},
   "source": [
    "# **Model Tuning: Transfer Learning with Inception**"
   ]
  },
  {
   "cell_type": "code",
   "execution_count": 1,
   "id": "99796cdc-8b93-43cb-a96d-1a21f21adf70",
   "metadata": {},
   "outputs": [],
   "source": [
    "# import necessary libraries\n",
    "import os\n",
    "import pickle\n",
    "import pandas as pd\n",
    "import tensorflow as tf\n",
    "from tensorflow.keras.callbacks import ModelCheckpoint\n",
    "from tensorflow.keras.preprocessing.image import ImageDataGenerator\n",
    "from tensorflow.keras import backend as K\n",
    "import tensorflow.keras.models\n",
    "from tensorflow.keras.models import Sequential\n",
    "from tensorflow.keras.layers import Dense, Flatten, Dropout\n",
    "from tensorflow.keras.optimizers import RMSprop\n",
    "from tensorflow.keras.applications.inception_v3 import InceptionV3"
   ]
  },
  {
   "cell_type": "markdown",
   "id": "a9132181-b4ce-425e-ad50-b972d16cca9d",
   "metadata": {},
   "source": [
    "## **Load image dataframe**"
   ]
  },
  {
   "cell_type": "code",
   "execution_count": 2,
   "id": "c9433efb-ddc3-4803-b5e4-d33d14cc3c6a",
   "metadata": {},
   "outputs": [],
   "source": [
    "# choose day or night dataframe for reference\n",
    "infile = 'day_df.pkl'\n",
    "#infile = 'night_df.pkl'\n",
    "path = '/home/ubuntu/michael/my_pickles/'"
   ]
  },
  {
   "cell_type": "code",
   "execution_count": 4,
   "id": "82f02c88-dd4b-42ae-9574-013b8f4182e6",
   "metadata": {},
   "outputs": [],
   "source": [
    "# set reference dataframe\n",
    "sample_df = pd.read_pickle(path + infile)"
   ]
  },
  {
   "cell_type": "markdown",
   "id": "e247ee69-b51c-4b60-82ab-2339fbb61bf3",
   "metadata": {},
   "source": [
    "## **Set source directories**"
   ]
  },
  {
   "cell_type": "code",
   "execution_count": 5,
   "id": "ebc2bd46-cd29-4529-971b-c298c69100af",
   "metadata": {},
   "outputs": [],
   "source": [
    "# to access day images only\n",
    "train_dir = '/home/ubuntu/michael/day/train'\n",
    "val_dir = '/home/ubuntu/michael/day/validate'"
   ]
  },
  {
   "cell_type": "code",
   "execution_count": 6,
   "id": "3839239b-43cd-4106-b424-d59f09b05264",
   "metadata": {},
   "outputs": [],
   "source": [
    "# to access night images only\n",
    "#train_dir = '/home/ubuntu/michael/night/train'\n",
    "#val_dir = '/home/ubuntu/michael/night/validate'"
   ]
  },
  {
   "cell_type": "markdown",
   "id": "009b7f3d-4340-4486-8541-546f88f7ffa8",
   "metadata": {},
   "source": [
    "## **Loading images with Keras**"
   ]
  },
  {
   "cell_type": "code",
   "execution_count": 7,
   "id": "cb317dbe-bacc-49d1-84ba-25e8e8651aa9",
   "metadata": {},
   "outputs": [],
   "source": [
    "# clear memory\n",
    "K.clear_session()"
   ]
  },
  {
   "cell_type": "code",
   "execution_count": 8,
   "id": "577ec136-94fd-4907-bc69-6b146f2cdbcd",
   "metadata": {},
   "outputs": [],
   "source": [
    "# set image size and shape\n",
    "img_size = (299, 299)\n",
    "img_shape = (299, 299, 3)"
   ]
  },
  {
   "cell_type": "code",
   "execution_count": 9,
   "id": "620989f3-01fe-44d1-9093-905845353f84",
   "metadata": {},
   "outputs": [],
   "source": [
    "# create data generators\n",
    "datagen = ImageDataGenerator(rescale = 1.0 / 255.0) #scale pixel values to be in the range of 0-1"
   ]
  },
  {
   "cell_type": "code",
   "execution_count": 10,
   "id": "ea97ca61-7430-40bf-a44e-be733397ff80",
   "metadata": {},
   "outputs": [],
   "source": [
    "# include 'out-of-the-box' image augmentation\n",
    "train_datagen = ImageDataGenerator(rescale = 1./255., rotation_range = 40, \n",
    "                                   width_shift_range = 0.2, height_shift_range = 0.2,\n",
    "                                   shear_range = 0.2, zoom_range = 0.2, horizontal_flip = True)"
   ]
  },
  {
   "cell_type": "code",
   "execution_count": 11,
   "id": "02f50adc-fb1c-4301-bb3b-03751ba7fabc",
   "metadata": {},
   "outputs": [
    {
     "name": "stdout",
     "output_type": "stream",
     "text": [
      "Found 897 images belonging to 2 classes.\n"
     ]
    }
   ],
   "source": [
    "# prepare training iterator\n",
    "train_it = train_datagen.flow_from_directory(directory = train_dir, classes = ['nofog', 'fog'], class_mode = 'binary', \n",
    "                    batch_size = 64, target_size = img_size) \n",
    "# flip classes due to alphabetical order; fog would be 0 since it preceeds nofog in the alphabet"
   ]
  },
  {
   "cell_type": "code",
   "execution_count": 12,
   "id": "f4c6afe8-55cd-44ea-ac3c-a2466abc3973",
   "metadata": {},
   "outputs": [],
   "source": [
    "# assign class names and indices\n",
    "class_names = train_it.classes # lists all assignments of images [0 = nofog; 1 = fog]\n",
    "class_indices = train_it.class_indices"
   ]
  },
  {
   "cell_type": "code",
   "execution_count": 13,
   "id": "26c821de-9000-4355-a2c3-12d856b2dc16",
   "metadata": {},
   "outputs": [
    {
     "name": "stdout",
     "output_type": "stream",
     "text": [
      "Found 112 images belonging to 2 classes.\n"
     ]
    }
   ],
   "source": [
    "# prepare validation iterator\n",
    "valid_it = datagen.flow_from_directory(directory = val_dir, classes = ['nofog', 'fog'], class_mode = 'binary', \n",
    "                    batch_size = 16, target_size = img_size)\n",
    "# flip classes due to alphabetical order; fog would be 0 since it preceeds nofog in the alphabet"
   ]
  },
  {
   "cell_type": "code",
   "execution_count": 14,
   "id": "03933c13-5aa9-424e-bec6-ea36b88fbfcf",
   "metadata": {},
   "outputs": [],
   "source": [
    "class_names = valid_it.classes\n",
    "class_indices = valid_it.class_indices"
   ]
  },
  {
   "cell_type": "markdown",
   "id": "69e5325a-3e2c-42f4-a6eb-251a8b11b6fb",
   "metadata": {},
   "source": [
    "## **Load Inception model as convoutional base**"
   ]
  },
  {
   "cell_type": "code",
   "execution_count": 15,
   "id": "73fc6aea-fb68-4303-93a3-a4ad14f14df9",
   "metadata": {},
   "outputs": [],
   "source": [
    "# load pretrained base model Inception\n",
    "conv_base = InceptionV3(input_shape = img_shape, include_top = False, weights = 'imagenet')"
   ]
  },
  {
   "cell_type": "code",
   "execution_count": 16,
   "id": "87c94905-6ac2-4501-9bba-07a8cad53b01",
   "metadata": {},
   "outputs": [],
   "source": [
    "# freeze base layers\n",
    "conv_base.trainable = False"
   ]
  },
  {
   "cell_type": "markdown",
   "id": "fcb15601-5c70-452b-b4c5-21cdb2f995fe",
   "metadata": {},
   "source": [
    "## **Add classifier on top of convolutional base**"
   ]
  },
  {
   "cell_type": "code",
   "execution_count": 17,
   "id": "08d56b63-234f-440a-bf4b-d6227edfb592",
   "metadata": {},
   "outputs": [],
   "source": [
    "# create classification model\n",
    "model = Sequential()\n",
    "model.add(conv_base)\n",
    "model.add(Flatten())\n",
    "model.add(Dense(1024, activation = 'relu'))\n",
    "model.add(Dropout(0.3))\n",
    "model.add(Dense(1, activation = 'sigmoid'))"
   ]
  },
  {
   "cell_type": "code",
   "execution_count": 18,
   "id": "92e06780-b9f2-423a-b876-7a9ae1b9b71a",
   "metadata": {},
   "outputs": [
    {
     "name": "stdout",
     "output_type": "stream",
     "text": [
      "Model: \"sequential\"\n",
      "_________________________________________________________________\n",
      "Layer (type)                 Output Shape              Param #   \n",
      "=================================================================\n",
      "inception_v3 (Functional)    (None, 8, 8, 2048)        21802784  \n",
      "_________________________________________________________________\n",
      "flatten (Flatten)            (None, 131072)            0         \n",
      "_________________________________________________________________\n",
      "dense (Dense)                (None, 1024)              134218752 \n",
      "_________________________________________________________________\n",
      "dropout (Dropout)            (None, 1024)              0         \n",
      "_________________________________________________________________\n",
      "dense_1 (Dense)              (None, 1)                 1025      \n",
      "=================================================================\n",
      "Total params: 156,022,561\n",
      "Trainable params: 134,219,777\n",
      "Non-trainable params: 21,802,784\n",
      "_________________________________________________________________\n"
     ]
    }
   ],
   "source": [
    "# view classification architecture\n",
    "model.summary()"
   ]
  },
  {
   "cell_type": "code",
   "execution_count": 19,
   "id": "3af97248-b131-4e88-9fdc-58e44a1bb746",
   "metadata": {},
   "outputs": [],
   "source": [
    "# compile model\n",
    "opt = RMSprop(lr = 1e-4)\n",
    "model.compile(loss = 'binary_crossentropy', optimizer = opt , metrics = ['acc'])"
   ]
  },
  {
   "cell_type": "code",
   "execution_count": 20,
   "id": "6f59eeb8-0ad6-437a-90df-a300a6a12406",
   "metadata": {},
   "outputs": [],
   "source": [
    "# set early stopping\n",
    "es = tf.keras.callbacks.EarlyStopping(monitor = 'val_loss', mode = 'min', verbose = 0, \n",
    "                                      patience=15, restore_best_weights = True)"
   ]
  },
  {
   "cell_type": "code",
   "execution_count": 22,
   "id": "03b993a7-c61c-4b17-87c2-032a383fbf53",
   "metadata": {},
   "outputs": [],
   "source": [
    "# choose day or night output folder\n",
    "outputFolder = '/home/ubuntu/michael/model_output/Inception/'\n",
    "#outputFolder = '/home/ubuntu/michael/model_output/Inception/day/'\n",
    "#outputFolder = '/home/ubuntu/michael/model_output/Inception/night/'\n",
    "if not os.path.exists(outputFolder):\n",
    "    os.makedirs(outputFolder)"
   ]
  },
  {
   "cell_type": "code",
   "execution_count": 23,
   "id": "5ba2d9ce-1867-4eb2-a960-b21323d69c30",
   "metadata": {},
   "outputs": [],
   "source": [
    "# define chekpoint path and add checkpoints\n",
    "checkpoint_path = outputFolder + '/Inception_model.hdf5'\n",
    "\n",
    "# create a model checkpoint when condtions are met\n",
    "cp = ModelCheckpoint(checkpoint_path, monitor = 'val_acc', mode = 'max', save_best_only=True)"
   ]
  },
  {
   "cell_type": "code",
   "execution_count": 30,
   "id": "a0ac0f87-d5c4-4078-8f75-df04e3f383ca",
   "metadata": {},
   "outputs": [],
   "source": [
    "# fit model with train itertor and use valid_it as a validation dataset during training\n",
    "history = model.fit(train_it, steps_per_epoch = len(train_it), # @ of steps is the number of batches per epoch\n",
    "                    validation_data = valid_it, validation_steps = len(valid_it), \n",
    "                    epochs = 300, verbose = 1, callbacks=[es, cp]) "
   ]
  },
  {
   "cell_type": "code",
   "execution_count": 29,
   "id": "a86529f0-fd21-4b68-aef8-68cf9fb422cf",
   "metadata": {},
   "outputs": [],
   "source": [
    "# evaluate model\n",
    "score = model.evaluate(valid_it, steps=len(valid_it), verbose = 1)"
   ]
  },
  {
   "cell_type": "code",
   "execution_count": 26,
   "id": "addc55ba-3767-45f3-a2a1-86fc7acb7beb",
   "metadata": {},
   "outputs": [],
   "source": [
    "# save model validation score\n",
    "with open(outputFolder + 'Inception_score.pkl', 'wb') as f:pickle.dump(score, f)"
   ]
  },
  {
   "cell_type": "code",
   "execution_count": 27,
   "id": "226a2cc9-7977-42da-ae78-532b8d06e2b5",
   "metadata": {},
   "outputs": [],
   "source": [
    "# access training and validation loss and accuracy data\n",
    "loss_values = history.history['loss']\n",
    "acc_values = history.history['acc']\n",
    "valLoss_values = history.history['val_loss']\n",
    "valAccuracy_values = history.history['val_acc']\n",
    "\n",
    "# create dataframe to store accuracy and loss data\n",
    "history_df = pd.DataFrame()\n",
    "history_df['Training Loss'] = history.history['loss']\n",
    "history_df['Training Accuracy'] = history.history['acc']\n",
    "history_df['Validation Loss'] = history.history['val_loss']\n",
    "history_df['Validation Accuracy'] = history.history['val_acc']"
   ]
  },
  {
   "cell_type": "code",
   "execution_count": 28,
   "id": "a73c83db-263c-44f1-8f70-d406a24cd0a0",
   "metadata": {},
   "outputs": [],
   "source": [
    "# save dataframe to a pickle file for retrieval\n",
    "history_df.to_pickle(outputFolder + 'Inception_history.pkl')"
   ]
  }
 ],
 "metadata": {
  "kernelspec": {
   "display_name": "Python 3",
   "language": "python",
   "name": "python3"
  },
  "language_info": {
   "codemirror_mode": {
    "name": "ipython",
    "version": 3
   },
   "file_extension": ".py",
   "mimetype": "text/x-python",
   "name": "python",
   "nbconvert_exporter": "python",
   "pygments_lexer": "ipython3",
   "version": "3.8.8"
  }
 },
 "nbformat": 4,
 "nbformat_minor": 5
}
